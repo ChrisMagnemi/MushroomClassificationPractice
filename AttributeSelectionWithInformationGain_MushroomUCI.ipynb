{
 "cells": [
  {
   "cell_type": "markdown",
   "metadata": {
    "collapsed": true
   },
   "source": [
    "# Task 1\n",
    "Basic imports and read in the dataset"
   ]
  },
  {
   "cell_type": "code",
   "execution_count": 5,
   "metadata": {
    "collapsed": true
   },
   "outputs": [],
   "source": [
    "import numpy as np\n",
    "import pandas as pd\n",
    "import math"
   ]
  },
  {
   "cell_type": "code",
   "execution_count": 6,
   "metadata": {
    "collapsed": true
   },
   "outputs": [],
   "source": [
    "# import the mushroom dataset\n",
    "mush = pd.read_csv('mushrooms.csv')"
   ]
  },
  {
   "cell_type": "code",
   "execution_count": null,
   "metadata": {},
   "outputs": [],
   "source": []
  },
  {
   "cell_type": "markdown",
   "metadata": {},
   "source": [
    "# Task 2\n",
    "Gather some basic sense of the data"
   ]
  },
  {
   "cell_type": "code",
   "execution_count": 7,
   "metadata": {},
   "outputs": [
    {
     "data": {
      "text/plain": [
       "class                       object\n",
       "cap-shape                   object\n",
       "cap-surface                 object\n",
       "cap-color                   object\n",
       "bruises                     object\n",
       "odor                        object\n",
       "gill-attachment             object\n",
       "gill-spacing                object\n",
       "gill-size                   object\n",
       "gill-color                  object\n",
       "stalk-shape                 object\n",
       "stalk-root                  object\n",
       "stalk-surface-above-ring    object\n",
       "stalk-surface-below-ring    object\n",
       "stalk-color-above-ring      object\n",
       "stalk-color-below-ring      object\n",
       "veil-type                   object\n",
       "veil-color                  object\n",
       "ring-number                 object\n",
       "ring-type                   object\n",
       "spore-print-color           object\n",
       "population                  object\n",
       "habitat                     object\n",
       "dtype: object"
      ]
     },
     "execution_count": 7,
     "metadata": {},
     "output_type": "execute_result"
    }
   ],
   "source": [
    "mush.dtypes"
   ]
  },
  {
   "cell_type": "code",
   "execution_count": 8,
   "metadata": {},
   "outputs": [
    {
     "data": {
      "text/html": [
       "<div>\n",
       "<style>\n",
       "    .dataframe thead tr:only-child th {\n",
       "        text-align: right;\n",
       "    }\n",
       "\n",
       "    .dataframe thead th {\n",
       "        text-align: left;\n",
       "    }\n",
       "\n",
       "    .dataframe tbody tr th {\n",
       "        vertical-align: top;\n",
       "    }\n",
       "</style>\n",
       "<table border=\"1\" class=\"dataframe\">\n",
       "  <thead>\n",
       "    <tr style=\"text-align: right;\">\n",
       "      <th></th>\n",
       "      <th>class</th>\n",
       "      <th>cap-shape</th>\n",
       "      <th>cap-surface</th>\n",
       "      <th>cap-color</th>\n",
       "      <th>bruises</th>\n",
       "      <th>odor</th>\n",
       "      <th>gill-attachment</th>\n",
       "      <th>gill-spacing</th>\n",
       "      <th>gill-size</th>\n",
       "      <th>gill-color</th>\n",
       "      <th>...</th>\n",
       "      <th>stalk-surface-below-ring</th>\n",
       "      <th>stalk-color-above-ring</th>\n",
       "      <th>stalk-color-below-ring</th>\n",
       "      <th>veil-type</th>\n",
       "      <th>veil-color</th>\n",
       "      <th>ring-number</th>\n",
       "      <th>ring-type</th>\n",
       "      <th>spore-print-color</th>\n",
       "      <th>population</th>\n",
       "      <th>habitat</th>\n",
       "    </tr>\n",
       "  </thead>\n",
       "  <tbody>\n",
       "    <tr>\n",
       "      <th>count</th>\n",
       "      <td>8124</td>\n",
       "      <td>8124</td>\n",
       "      <td>8124</td>\n",
       "      <td>8124</td>\n",
       "      <td>8124</td>\n",
       "      <td>8124</td>\n",
       "      <td>8124</td>\n",
       "      <td>8124</td>\n",
       "      <td>8124</td>\n",
       "      <td>8124</td>\n",
       "      <td>...</td>\n",
       "      <td>8124</td>\n",
       "      <td>8124</td>\n",
       "      <td>8124</td>\n",
       "      <td>8124</td>\n",
       "      <td>8124</td>\n",
       "      <td>8124</td>\n",
       "      <td>8124</td>\n",
       "      <td>8124</td>\n",
       "      <td>8124</td>\n",
       "      <td>8124</td>\n",
       "    </tr>\n",
       "    <tr>\n",
       "      <th>unique</th>\n",
       "      <td>2</td>\n",
       "      <td>6</td>\n",
       "      <td>4</td>\n",
       "      <td>10</td>\n",
       "      <td>2</td>\n",
       "      <td>9</td>\n",
       "      <td>2</td>\n",
       "      <td>2</td>\n",
       "      <td>2</td>\n",
       "      <td>12</td>\n",
       "      <td>...</td>\n",
       "      <td>4</td>\n",
       "      <td>9</td>\n",
       "      <td>9</td>\n",
       "      <td>1</td>\n",
       "      <td>4</td>\n",
       "      <td>3</td>\n",
       "      <td>5</td>\n",
       "      <td>9</td>\n",
       "      <td>6</td>\n",
       "      <td>7</td>\n",
       "    </tr>\n",
       "    <tr>\n",
       "      <th>top</th>\n",
       "      <td>e</td>\n",
       "      <td>x</td>\n",
       "      <td>y</td>\n",
       "      <td>n</td>\n",
       "      <td>f</td>\n",
       "      <td>n</td>\n",
       "      <td>f</td>\n",
       "      <td>c</td>\n",
       "      <td>b</td>\n",
       "      <td>b</td>\n",
       "      <td>...</td>\n",
       "      <td>s</td>\n",
       "      <td>w</td>\n",
       "      <td>w</td>\n",
       "      <td>p</td>\n",
       "      <td>w</td>\n",
       "      <td>o</td>\n",
       "      <td>p</td>\n",
       "      <td>w</td>\n",
       "      <td>v</td>\n",
       "      <td>d</td>\n",
       "    </tr>\n",
       "    <tr>\n",
       "      <th>freq</th>\n",
       "      <td>4208</td>\n",
       "      <td>3656</td>\n",
       "      <td>3244</td>\n",
       "      <td>2284</td>\n",
       "      <td>4748</td>\n",
       "      <td>3528</td>\n",
       "      <td>7914</td>\n",
       "      <td>6812</td>\n",
       "      <td>5612</td>\n",
       "      <td>1728</td>\n",
       "      <td>...</td>\n",
       "      <td>4936</td>\n",
       "      <td>4464</td>\n",
       "      <td>4384</td>\n",
       "      <td>8124</td>\n",
       "      <td>7924</td>\n",
       "      <td>7488</td>\n",
       "      <td>3968</td>\n",
       "      <td>2388</td>\n",
       "      <td>4040</td>\n",
       "      <td>3148</td>\n",
       "    </tr>\n",
       "  </tbody>\n",
       "</table>\n",
       "<p>4 rows × 23 columns</p>\n",
       "</div>"
      ],
      "text/plain": [
       "       class cap-shape cap-surface cap-color bruises  odor gill-attachment  \\\n",
       "count   8124      8124        8124      8124    8124  8124            8124   \n",
       "unique     2         6           4        10       2     9               2   \n",
       "top        e         x           y         n       f     n               f   \n",
       "freq    4208      3656        3244      2284    4748  3528            7914   \n",
       "\n",
       "       gill-spacing gill-size gill-color   ...   stalk-surface-below-ring  \\\n",
       "count          8124      8124       8124   ...                       8124   \n",
       "unique            2         2         12   ...                          4   \n",
       "top               c         b          b   ...                          s   \n",
       "freq           6812      5612       1728   ...                       4936   \n",
       "\n",
       "       stalk-color-above-ring stalk-color-below-ring veil-type veil-color  \\\n",
       "count                    8124                   8124      8124       8124   \n",
       "unique                      9                      9         1          4   \n",
       "top                         w                      w         p          w   \n",
       "freq                     4464                   4384      8124       7924   \n",
       "\n",
       "       ring-number ring-type spore-print-color population habitat  \n",
       "count         8124      8124              8124       8124    8124  \n",
       "unique           3         5                 9          6       7  \n",
       "top              o         p                 w          v       d  \n",
       "freq          7488      3968              2388       4040    3148  \n",
       "\n",
       "[4 rows x 23 columns]"
      ]
     },
     "execution_count": 8,
     "metadata": {},
     "output_type": "execute_result"
    }
   ],
   "source": [
    "mush.describe()"
   ]
  },
  {
   "cell_type": "code",
   "execution_count": 9,
   "metadata": {},
   "outputs": [
    {
     "data": {
      "text/plain": [
       "class                       0\n",
       "cap-shape                   0\n",
       "cap-surface                 0\n",
       "cap-color                   0\n",
       "bruises                     0\n",
       "odor                        0\n",
       "gill-attachment             0\n",
       "gill-spacing                0\n",
       "gill-size                   0\n",
       "gill-color                  0\n",
       "stalk-shape                 0\n",
       "stalk-root                  0\n",
       "stalk-surface-above-ring    0\n",
       "stalk-surface-below-ring    0\n",
       "stalk-color-above-ring      0\n",
       "stalk-color-below-ring      0\n",
       "veil-type                   0\n",
       "veil-color                  0\n",
       "ring-number                 0\n",
       "ring-type                   0\n",
       "spore-print-color           0\n",
       "population                  0\n",
       "habitat                     0\n",
       "dtype: int64"
      ]
     },
     "execution_count": 9,
     "metadata": {},
     "output_type": "execute_result"
    }
   ],
   "source": [
    "mush.isnull().sum()"
   ]
  },
  {
   "cell_type": "markdown",
   "metadata": {},
   "source": [
    "# Task 3  \n",
    "Create functions for Entropy and Information Gain calculations.\n",
    "These will then be used to determine the best splits for a tree-based classification model"
   ]
  },
  {
   "cell_type": "markdown",
   "metadata": {},
   "source": [
    "<h3> Entropy </h3>\n",
    "&nbsp; Entropy is a measure of disorder that can be applied to a set.\n",
    "Technically, Entropy is defined as: \n",
    "<center><b>entropy</b> = -p<sub>1</sub>log(p<sub>1</sub>) - p<sub>2</sub>log(p<sub>2</sub>) - ... - p<sub>n</sub>log(p<sub>n</sub>)  </center>\n",
    "<Br>\n",
    "<dl>\n",
    "<dt> n : the number of properties </dt>\n",
    "\n",
    "<dt>p<sub>i</sub> : the probability of property i within the set.</dt>\n",
    "    <dd> &nbsp; Ranges from p<sub>i</sub> = 1 (all members of a set have the same property, specifically property <i>i</i>) to p<sub>i</sub> = 0 (no members of the set have property <i>i</i>)  </dd>\n",
    "\n",
    "</dl>\n",
    "    "
   ]
  },
  {
   "cell_type": "code",
   "execution_count": 10,
   "metadata": {
    "collapsed": true
   },
   "outputs": [],
   "source": [
    "def computeEntropy(series):\n",
    "    numrows = float(len(series))\n",
    "    entropy = 0\n",
    "    property_counts = series.value_counts()\n",
    "    property_names = series.value_counts().index.tolist()\n",
    "    if sum(property_counts) != numrows:\n",
    "        return 'sums do not match up'\n",
    "    elif len(property_counts) != len(property_names):\n",
    "        return 'something doesnt match up'\n",
    "    k = len(property_counts)\n",
    "    for prop in property_counts:\n",
    "        p_i = float(prop)/numrows\n",
    "        if p_i != 1:\n",
    "#         print p_i\n",
    "            entropy -= p_i*(math.log(p_i,k))\n",
    "    return entropy\n",
    "        \n",
    "        "
   ]
  },
  {
   "cell_type": "code",
   "execution_count": 11,
   "metadata": {},
   "outputs": [
    {
     "data": {
      "text/plain": [
       "0.2654196204356388"
      ]
     },
     "execution_count": 11,
     "metadata": {},
     "output_type": "execute_result"
    }
   ],
   "source": [
    "computeEntropy(mush['ring-number'])"
   ]
  },
  {
   "cell_type": "markdown",
   "metadata": {},
   "source": [
    "Make sure this function works properly:"
   ]
  },
  {
   "cell_type": "code",
   "execution_count": 12,
   "metadata": {},
   "outputs": [
    {
     "data": {
      "text/plain": [
       "8124"
      ]
     },
     "execution_count": 12,
     "metadata": {},
     "output_type": "execute_result"
    }
   ],
   "source": [
    "series = mush['cap-shape']\n",
    "len(series)"
   ]
  },
  {
   "cell_type": "code",
   "execution_count": 13,
   "metadata": {},
   "outputs": [
    {
     "data": {
      "text/plain": [
       "x    3656\n",
       "f    3152\n",
       "k     828\n",
       "b     452\n",
       "s      32\n",
       "c       4\n",
       "Name: cap-shape, dtype: int64"
      ]
     },
     "execution_count": 13,
     "metadata": {},
     "output_type": "execute_result"
    }
   ],
   "source": [
    "series.value_counts()"
   ]
  },
  {
   "cell_type": "code",
   "execution_count": 14,
   "metadata": {},
   "outputs": [
    {
     "name": "stdout",
     "output_type": "stream",
     "text": [
      "cap-shape entropy is:\n",
      "0.625159775841\n",
      "1.0\n"
     ]
    }
   ],
   "source": [
    "p_1 = float(3656)/float(8124)\n",
    "p_2 = float(3152)/float(8124)\n",
    "p_3 = float(828)/float(8124)\n",
    "p_4 = float(452)/float(8124)\n",
    "p_5 = float(32)/float(8124)\n",
    "p_6 = float(4)/float(8124)\n",
    "entropy = (p_1*math.log(p_1,6))+(p_2*math.log(p_2,6))+(p_3*math.log(p_3,6))+(p_4*math.log(p_4,6))\n",
    "+(p_5*math.log(p_5,6)) +(p_6*math.log(p_6,6))\n",
    "print \"cap-shape entropy is:\"\n",
    "print -entropy\n",
    "print p_1+p_2+p_3+p_4+p_5+p_6"
   ]
  },
  {
   "cell_type": "code",
   "execution_count": 15,
   "metadata": {},
   "outputs": [
    {
     "data": {
      "text/plain": [
       "o    7488\n",
       "t     600\n",
       "n      36\n",
       "Name: ring-number, dtype: int64"
      ]
     },
     "execution_count": 15,
     "metadata": {},
     "output_type": "execute_result"
    }
   ],
   "source": [
    "mush['ring-number'].value_counts()"
   ]
  },
  {
   "cell_type": "markdown",
   "metadata": {},
   "source": [
    "<h2>Information Gain</h2>\n",
    "&nbsp; Information Gain measures the increase (or decreasue) in entropy of a set compared to its parent. Ex) how much would our knowledge increase, if we split our parent set on a certain attribute.\n",
    "\n",
    "Technically, Information Gain of a split is:\n",
    "<center> <i><b>IG(parent,children)</b> = entropy(parent) -\n",
    "[ p(c<sub>1</sub>) x entropy(c<sub>1</sub>) + p(c<sub>2</sub>) x entropy(c<sub>2</sub>) + ... ] </i>\n",
    "</center>\n",
    "<br>\n",
    "<dl>\n",
    "<dt>c<sub>i</sub> : represents the <i>i</i>th child set out of <i>n</i> total child sets</dt>\n",
    "<dt> p(c<sub>i</sub>) : the proportion of instances belonging to child set <i>i</i></dt>\n",
    "</dl>\n",
    "\n",
    "note that the entropy of each child set is weighted by the proportion of instances belonging to that set"
   ]
  },
  {
   "cell_type": "code",
   "execution_count": 16,
   "metadata": {
    "collapsed": true
   },
   "outputs": [],
   "source": [
    "def informationGain(dataset, split_feature, target):\n",
    "    cols = []\n",
    "    for col in dataset.columns:\n",
    "        if col != target:\n",
    "            cols.append(col)\n",
    "    if split_feature not in cols:\n",
    "        return 'the feature to be split on is not in the feature set'\n",
    "    entropy_parent = computeEntropy(dataset[target])\n",
    "    prop_counts = dataset[split_feature].value_counts()\n",
    "    prop_names = dataset[split_feature].value_counts().index.tolist()\n",
    "    numrows = float(len(dataset[split_feature]))\n",
    "    for i in range(len(prop_names)):\n",
    "        df = dataset.loc[dataset[split_feature] == prop_names[i]]\n",
    "        part = computeEntropy(df[target])\n",
    "        part = part * (float(df.shape[0])/numrows)\n",
    "        entropy_parent -= part\n",
    "    return entropy_parent\n",
    "    \n",
    "    \n",
    "    \n"
   ]
  },
  {
   "cell_type": "code",
   "execution_count": 17,
   "metadata": {},
   "outputs": [
    {
     "data": {
      "text/plain": [
       "0.03845266924309059"
      ]
     },
     "execution_count": 17,
     "metadata": {},
     "output_type": "execute_result"
    }
   ],
   "source": [
    "informationGain(mush, 'ring-number', 'class')"
   ]
  },
  {
   "cell_type": "markdown",
   "metadata": {},
   "source": [
    "Great, now lets loop through all columns and see which gives the best information gain. All IG's are between 0 and 1 with odor as the greatest, as expected."
   ]
  },
  {
   "cell_type": "code",
   "execution_count": 18,
   "metadata": {},
   "outputs": [
    {
     "name": "stdout",
     "output_type": "stream",
     "text": [
      "cap-shape 0.0487967019354\n",
      "cap-surface 0.0285902327738\n",
      "cap-color 0.0360492829762\n",
      "bruises 0.192379485761\n",
      "odor 0.906074977384\n",
      "gill-attachment 0.0141650272506\n",
      "gill-spacing 0.100883183997\n",
      "gill-size 0.230154375148\n",
      "gill-color 0.416977523416\n",
      "stalk-shape 0.00751677256966\n",
      "stalk-root 0.134817637627\n",
      "stalk-surface-above-ring 0.284725599218\n",
      "stalk-surface-below-ring 0.271894473393\n",
      "stalk-color-above-ring 0.253845173462\n",
      "stalk-color-below-ring 0.241415566528\n",
      "veil-type 0.0\n",
      "veil-color 0.0238170161209\n",
      "ring-number 0.0384526692431\n",
      "ring-type 0.318021510794\n",
      "spore-print-color 0.480704917685\n",
      "population 0.201958019067\n",
      "habitat 0.156833604605\n"
     ]
    }
   ],
   "source": [
    "for col in mush.columns:\n",
    "    if col != 'class':\n",
    "        print col, informationGain(mush, col, 'class')"
   ]
  },
  {
   "cell_type": "code",
   "execution_count": 19,
   "metadata": {},
   "outputs": [
    {
     "data": {
      "text/html": [
       "<div>\n",
       "<style>\n",
       "    .dataframe thead tr:only-child th {\n",
       "        text-align: right;\n",
       "    }\n",
       "\n",
       "    .dataframe thead th {\n",
       "        text-align: left;\n",
       "    }\n",
       "\n",
       "    .dataframe tbody tr th {\n",
       "        vertical-align: top;\n",
       "    }\n",
       "</style>\n",
       "<table border=\"1\" class=\"dataframe\">\n",
       "  <thead>\n",
       "    <tr style=\"text-align: right;\">\n",
       "      <th></th>\n",
       "      <th>class</th>\n",
       "      <th>cap-shape</th>\n",
       "      <th>cap-surface</th>\n",
       "      <th>cap-color</th>\n",
       "      <th>bruises</th>\n",
       "      <th>odor</th>\n",
       "      <th>gill-attachment</th>\n",
       "      <th>gill-spacing</th>\n",
       "      <th>gill-size</th>\n",
       "      <th>gill-color</th>\n",
       "      <th>...</th>\n",
       "      <th>stalk-surface-below-ring</th>\n",
       "      <th>stalk-color-above-ring</th>\n",
       "      <th>stalk-color-below-ring</th>\n",
       "      <th>veil-type</th>\n",
       "      <th>veil-color</th>\n",
       "      <th>ring-number</th>\n",
       "      <th>ring-type</th>\n",
       "      <th>spore-print-color</th>\n",
       "      <th>population</th>\n",
       "      <th>habitat</th>\n",
       "    </tr>\n",
       "  </thead>\n",
       "  <tbody>\n",
       "    <tr>\n",
       "      <th>0</th>\n",
       "      <td>p</td>\n",
       "      <td>x</td>\n",
       "      <td>s</td>\n",
       "      <td>n</td>\n",
       "      <td>t</td>\n",
       "      <td>p</td>\n",
       "      <td>f</td>\n",
       "      <td>c</td>\n",
       "      <td>n</td>\n",
       "      <td>k</td>\n",
       "      <td>...</td>\n",
       "      <td>s</td>\n",
       "      <td>w</td>\n",
       "      <td>w</td>\n",
       "      <td>p</td>\n",
       "      <td>w</td>\n",
       "      <td>o</td>\n",
       "      <td>p</td>\n",
       "      <td>k</td>\n",
       "      <td>s</td>\n",
       "      <td>u</td>\n",
       "    </tr>\n",
       "    <tr>\n",
       "      <th>1</th>\n",
       "      <td>e</td>\n",
       "      <td>x</td>\n",
       "      <td>s</td>\n",
       "      <td>y</td>\n",
       "      <td>t</td>\n",
       "      <td>a</td>\n",
       "      <td>f</td>\n",
       "      <td>c</td>\n",
       "      <td>b</td>\n",
       "      <td>k</td>\n",
       "      <td>...</td>\n",
       "      <td>s</td>\n",
       "      <td>w</td>\n",
       "      <td>w</td>\n",
       "      <td>p</td>\n",
       "      <td>w</td>\n",
       "      <td>o</td>\n",
       "      <td>p</td>\n",
       "      <td>n</td>\n",
       "      <td>n</td>\n",
       "      <td>g</td>\n",
       "    </tr>\n",
       "    <tr>\n",
       "      <th>2</th>\n",
       "      <td>e</td>\n",
       "      <td>b</td>\n",
       "      <td>s</td>\n",
       "      <td>w</td>\n",
       "      <td>t</td>\n",
       "      <td>l</td>\n",
       "      <td>f</td>\n",
       "      <td>c</td>\n",
       "      <td>b</td>\n",
       "      <td>n</td>\n",
       "      <td>...</td>\n",
       "      <td>s</td>\n",
       "      <td>w</td>\n",
       "      <td>w</td>\n",
       "      <td>p</td>\n",
       "      <td>w</td>\n",
       "      <td>o</td>\n",
       "      <td>p</td>\n",
       "      <td>n</td>\n",
       "      <td>n</td>\n",
       "      <td>m</td>\n",
       "    </tr>\n",
       "    <tr>\n",
       "      <th>3</th>\n",
       "      <td>p</td>\n",
       "      <td>x</td>\n",
       "      <td>y</td>\n",
       "      <td>w</td>\n",
       "      <td>t</td>\n",
       "      <td>p</td>\n",
       "      <td>f</td>\n",
       "      <td>c</td>\n",
       "      <td>n</td>\n",
       "      <td>n</td>\n",
       "      <td>...</td>\n",
       "      <td>s</td>\n",
       "      <td>w</td>\n",
       "      <td>w</td>\n",
       "      <td>p</td>\n",
       "      <td>w</td>\n",
       "      <td>o</td>\n",
       "      <td>p</td>\n",
       "      <td>k</td>\n",
       "      <td>s</td>\n",
       "      <td>u</td>\n",
       "    </tr>\n",
       "    <tr>\n",
       "      <th>4</th>\n",
       "      <td>e</td>\n",
       "      <td>x</td>\n",
       "      <td>s</td>\n",
       "      <td>g</td>\n",
       "      <td>f</td>\n",
       "      <td>n</td>\n",
       "      <td>f</td>\n",
       "      <td>w</td>\n",
       "      <td>b</td>\n",
       "      <td>k</td>\n",
       "      <td>...</td>\n",
       "      <td>s</td>\n",
       "      <td>w</td>\n",
       "      <td>w</td>\n",
       "      <td>p</td>\n",
       "      <td>w</td>\n",
       "      <td>o</td>\n",
       "      <td>e</td>\n",
       "      <td>n</td>\n",
       "      <td>a</td>\n",
       "      <td>g</td>\n",
       "    </tr>\n",
       "  </tbody>\n",
       "</table>\n",
       "<p>5 rows × 23 columns</p>\n",
       "</div>"
      ],
      "text/plain": [
       "  class cap-shape cap-surface cap-color bruises odor gill-attachment  \\\n",
       "0     p         x           s         n       t    p               f   \n",
       "1     e         x           s         y       t    a               f   \n",
       "2     e         b           s         w       t    l               f   \n",
       "3     p         x           y         w       t    p               f   \n",
       "4     e         x           s         g       f    n               f   \n",
       "\n",
       "  gill-spacing gill-size gill-color   ...   stalk-surface-below-ring  \\\n",
       "0            c         n          k   ...                          s   \n",
       "1            c         b          k   ...                          s   \n",
       "2            c         b          n   ...                          s   \n",
       "3            c         n          n   ...                          s   \n",
       "4            w         b          k   ...                          s   \n",
       "\n",
       "  stalk-color-above-ring stalk-color-below-ring veil-type veil-color  \\\n",
       "0                      w                      w         p          w   \n",
       "1                      w                      w         p          w   \n",
       "2                      w                      w         p          w   \n",
       "3                      w                      w         p          w   \n",
       "4                      w                      w         p          w   \n",
       "\n",
       "  ring-number ring-type spore-print-color population habitat  \n",
       "0           o         p                 k          s       u  \n",
       "1           o         p                 n          n       g  \n",
       "2           o         p                 n          n       m  \n",
       "3           o         p                 k          s       u  \n",
       "4           o         e                 n          a       g  \n",
       "\n",
       "[5 rows x 23 columns]"
      ]
     },
     "execution_count": 19,
     "metadata": {},
     "output_type": "execute_result"
    }
   ],
   "source": [
    "mush.head()"
   ]
  },
  {
   "cell_type": "code",
   "execution_count": 27,
   "metadata": {},
   "outputs": [
    {
     "data": {
      "text/html": [
       "<div>\n",
       "<style>\n",
       "    .dataframe thead tr:only-child th {\n",
       "        text-align: right;\n",
       "    }\n",
       "\n",
       "    .dataframe thead th {\n",
       "        text-align: left;\n",
       "    }\n",
       "\n",
       "    .dataframe tbody tr th {\n",
       "        vertical-align: top;\n",
       "    }\n",
       "</style>\n",
       "<table border=\"1\" class=\"dataframe\">\n",
       "  <thead>\n",
       "    <tr style=\"text-align: right;\">\n",
       "      <th></th>\n",
       "      <th>class</th>\n",
       "    </tr>\n",
       "  </thead>\n",
       "  <tbody>\n",
       "    <tr>\n",
       "      <th>0</th>\n",
       "      <td>p</td>\n",
       "    </tr>\n",
       "    <tr>\n",
       "      <th>1</th>\n",
       "      <td>e</td>\n",
       "    </tr>\n",
       "    <tr>\n",
       "      <th>2</th>\n",
       "      <td>e</td>\n",
       "    </tr>\n",
       "    <tr>\n",
       "      <th>3</th>\n",
       "      <td>p</td>\n",
       "    </tr>\n",
       "    <tr>\n",
       "      <th>4</th>\n",
       "      <td>e</td>\n",
       "    </tr>\n",
       "  </tbody>\n",
       "</table>\n",
       "</div>"
      ],
      "text/plain": [
       "  class\n",
       "0     p\n",
       "1     e\n",
       "2     e\n",
       "3     p\n",
       "4     e"
      ]
     },
     "execution_count": 27,
     "metadata": {},
     "output_type": "execute_result"
    }
   ],
   "source": [
    "mush[['class']].head()"
   ]
  },
  {
   "cell_type": "markdown",
   "metadata": {
    "collapsed": true
   },
   "source": [
    "<b>cool, thats it on this subject from the book so imma throw a decision tree in here and then try to visualize it</b>"
   ]
  },
  {
   "cell_type": "code",
   "execution_count": 23,
   "metadata": {},
   "outputs": [],
   "source": [
    "from sklearn.model_selection import train_test_split\n",
    "from sklearn import tree"
   ]
  },
  {
   "cell_type": "code",
   "execution_count": 29,
   "metadata": {},
   "outputs": [],
   "source": [
    "X = mush.drop('class', axis=1)\n",
    "y = mush[['class']]"
   ]
  },
  {
   "cell_type": "code",
   "execution_count": 41,
   "metadata": {},
   "outputs": [],
   "source": [
    "#must convert y from categorical to numerical for the classifier\n",
    "mapping = {'p':0, 'e':1}\n",
    "#y = y.replace({'class':mapping})"
   ]
  },
  {
   "cell_type": "code",
   "execution_count": 46,
   "metadata": {},
   "outputs": [],
   "source": [
    "X = pd.get_dummies(X, drop_first=True)"
   ]
  },
  {
   "cell_type": "code",
   "execution_count": 48,
   "metadata": {},
   "outputs": [],
   "source": [
    "X_train, X_test, y_train, y_test = train_test_split(X,y,test_size = 0.25)"
   ]
  },
  {
   "cell_type": "code",
   "execution_count": 49,
   "metadata": {
    "collapsed": true
   },
   "outputs": [],
   "source": [
    "clf = tree.DecisionTreeClassifier()"
   ]
  },
  {
   "cell_type": "code",
   "execution_count": 51,
   "metadata": {},
   "outputs": [],
   "source": [
    "clf = clf.fit(X_train,y_train)"
   ]
  },
  {
   "cell_type": "code",
   "execution_count": 53,
   "metadata": {},
   "outputs": [
    {
     "data": {
      "text/plain": [
       "'mushroom.pdf'"
      ]
     },
     "execution_count": 53,
     "metadata": {},
     "output_type": "execute_result"
    }
   ],
   "source": [
    "import graphviz\n",
    "dot_data = tree.export_graphviz(clf,out_file=None)\n",
    "graph = graphviz.Source(dot_data)\n",
    "graph.render(\"mushroom\")"
   ]
  },
  {
   "cell_type": "code",
   "execution_count": 56,
   "metadata": {},
   "outputs": [],
   "source": [
    "dot_data = tree.export_graphviz(clf, out_file=None, \n",
    "                         feature_names=X.columns,  \n",
    "                         class_names='isEdible',  \n",
    "                         filled=True, rounded=True,  \n",
    "                         special_characters=True) "
   ]
  },
  {
   "cell_type": "code",
   "execution_count": 57,
   "metadata": {},
   "outputs": [
    {
     "data": {
      "text/plain": [
       "'mushroom2.pdf'"
      ]
     },
     "execution_count": 57,
     "metadata": {},
     "output_type": "execute_result"
    }
   ],
   "source": [
    "graph = graphviz.Source(dot_data)\n",
    "graph.render(\"mushroom2\")"
   ]
  },
  {
   "cell_type": "code",
   "execution_count": 58,
   "metadata": {},
   "outputs": [
    {
     "data": {
      "image/svg+xml": [
       "<?xml version=\"1.0\" encoding=\"UTF-8\" standalone=\"no\"?>\n",
       "<!DOCTYPE svg PUBLIC \"-//W3C//DTD SVG 1.1//EN\"\n",
       " \"http://www.w3.org/Graphics/SVG/1.1/DTD/svg11.dtd\">\n",
       "<!-- Generated by graphviz version 2.38.0 (20140413.2041)\n",
       " -->\n",
       "<!-- Title: Tree Pages: 1 -->\n",
       "<svg width=\"977pt\" height=\"870pt\"\n",
       " viewBox=\"0.00 0.00 976.60 870.00\" xmlns=\"http://www.w3.org/2000/svg\" xmlns:xlink=\"http://www.w3.org/1999/xlink\">\n",
       "<g id=\"graph0\" class=\"graph\" transform=\"scale(1 1) rotate(0) translate(4 866)\">\n",
       "<title>Tree</title>\n",
       "<polygon fill=\"white\" stroke=\"none\" points=\"-4,4 -4,-866 972.598,-866 972.598,4 -4,4\"/>\n",
       "<!-- 0 -->\n",
       "<g id=\"node1\" class=\"node\"><title>0</title>\n",
       "<path fill=\"#399de5\" fill-opacity=\"0.082353\" stroke=\"black\" d=\"M608.199,-862C608.199,-862 488.656,-862 488.656,-862 482.656,-862 476.656,-856 476.656,-850 476.656,-850 476.656,-796 476.656,-796 476.656,-790 482.656,-784 488.656,-784 488.656,-784 608.199,-784 608.199,-784 614.199,-784 620.199,-790 620.199,-796 620.199,-796 620.199,-850 620.199,-850 620.199,-856 614.199,-862 608.199,-862\"/>\n",
       "<text text-anchor=\"start\" x=\"509.169\" y=\"-846.8\" font-family=\"Helvetica,sans-Serif\" font-size=\"14.00\">odor_n ≤ 0.5</text>\n",
       "<text text-anchor=\"start\" x=\"508.144\" y=\"-832.8\" font-family=\"Helvetica,sans-Serif\" font-size=\"14.00\">gini = 0.4991</text>\n",
       "<text text-anchor=\"start\" x=\"498.812\" y=\"-818.8\" font-family=\"Helvetica,sans-Serif\" font-size=\"14.00\">samples = 6093</text>\n",
       "<text text-anchor=\"start\" x=\"484.792\" y=\"-804.8\" font-family=\"Helvetica,sans-Serif\" font-size=\"14.00\">value = [2914, 3179]</text>\n",
       "<text text-anchor=\"start\" x=\"521.002\" y=\"-790.8\" font-family=\"Helvetica,sans-Serif\" font-size=\"14.00\">class = s</text>\n",
       "</g>\n",
       "<!-- 1 -->\n",
       "<g id=\"node2\" class=\"node\"><title>1</title>\n",
       "<path fill=\"#e58139\" fill-opacity=\"0.788235\" stroke=\"black\" d=\"M495.414,-748C495.414,-748 383.442,-748 383.442,-748 377.442,-748 371.442,-742 371.442,-736 371.442,-736 371.442,-682 371.442,-682 371.442,-676 377.442,-670 383.442,-670 383.442,-670 495.414,-670 495.414,-670 501.414,-670 507.414,-676 507.414,-682 507.414,-682 507.414,-736 507.414,-736 507.414,-742 501.414,-748 495.414,-748\"/>\n",
       "<text text-anchor=\"start\" x=\"385.786\" y=\"-732.8\" font-family=\"Helvetica,sans-Serif\" font-size=\"14.00\">stalk&#45;root_c ≤ 0.5</text>\n",
       "<text text-anchor=\"start\" x=\"399.144\" y=\"-718.8\" font-family=\"Helvetica,sans-Serif\" font-size=\"14.00\">gini = 0.2887</text>\n",
       "<text text-anchor=\"start\" x=\"389.812\" y=\"-704.8\" font-family=\"Helvetica,sans-Serif\" font-size=\"14.00\">samples = 3429</text>\n",
       "<text text-anchor=\"start\" x=\"379.685\" y=\"-690.8\" font-family=\"Helvetica,sans-Serif\" font-size=\"14.00\">value = [2829, 600]</text>\n",
       "<text text-anchor=\"start\" x=\"413.947\" y=\"-676.8\" font-family=\"Helvetica,sans-Serif\" font-size=\"14.00\">class = i</text>\n",
       "</g>\n",
       "<!-- 0&#45;&gt;1 -->\n",
       "<g id=\"edge1\" class=\"edge\"><title>0&#45;&gt;1</title>\n",
       "<path fill=\"none\" stroke=\"black\" d=\"M511.221,-783.769C502.364,-774.669 492.828,-764.87 483.689,-755.48\"/>\n",
       "<polygon fill=\"black\" stroke=\"black\" points=\"485.95,-752.784 476.467,-748.058 480.933,-757.666 485.95,-752.784\"/>\n",
       "<text text-anchor=\"middle\" x=\"476.127\" y=\"-768.856\" font-family=\"Helvetica,sans-Serif\" font-size=\"14.00\">True</text>\n",
       "</g>\n",
       "<!-- 16 -->\n",
       "<g id=\"node17\" class=\"node\"><title>16</title>\n",
       "<path fill=\"#399de5\" fill-opacity=\"0.968627\" stroke=\"black\" d=\"M728.225,-748C728.225,-748 586.631,-748 586.631,-748 580.631,-748 574.631,-742 574.631,-736 574.631,-736 574.631,-682 574.631,-682 574.631,-676 580.631,-670 586.631,-670 586.631,-670 728.225,-670 728.225,-670 734.225,-670 740.225,-676 740.225,-682 740.225,-682 740.225,-736 740.225,-736 740.225,-742 734.225,-748 728.225,-748\"/>\n",
       "<text text-anchor=\"start\" x=\"582.779\" y=\"-732.8\" font-family=\"Helvetica,sans-Serif\" font-size=\"14.00\">spore&#45;print&#45;color_r ≤ 0.5</text>\n",
       "<text text-anchor=\"start\" x=\"617.144\" y=\"-718.8\" font-family=\"Helvetica,sans-Serif\" font-size=\"14.00\">gini = 0.0618</text>\n",
       "<text text-anchor=\"start\" x=\"607.812\" y=\"-704.8\" font-family=\"Helvetica,sans-Serif\" font-size=\"14.00\">samples = 2664</text>\n",
       "<text text-anchor=\"start\" x=\"601.578\" y=\"-690.8\" font-family=\"Helvetica,sans-Serif\" font-size=\"14.00\">value = [85, 2579]</text>\n",
       "<text text-anchor=\"start\" x=\"630.002\" y=\"-676.8\" font-family=\"Helvetica,sans-Serif\" font-size=\"14.00\">class = s</text>\n",
       "</g>\n",
       "<!-- 0&#45;&gt;16 -->\n",
       "<g id=\"edge16\" class=\"edge\"><title>0&#45;&gt;16</title>\n",
       "<path fill=\"none\" stroke=\"black\" d=\"M585.634,-783.769C594.491,-774.669 604.028,-764.87 613.166,-755.48\"/>\n",
       "<polygon fill=\"black\" stroke=\"black\" points=\"615.922,-757.666 620.389,-748.058 610.906,-752.784 615.922,-757.666\"/>\n",
       "<text text-anchor=\"middle\" x=\"620.728\" y=\"-768.856\" font-family=\"Helvetica,sans-Serif\" font-size=\"14.00\">False</text>\n",
       "</g>\n",
       "<!-- 2 -->\n",
       "<g id=\"node3\" class=\"node\"><title>2</title>\n",
       "<path fill=\"#e58139\" fill-opacity=\"0.921569\" stroke=\"black\" d=\"M317.414,-634C317.414,-634 205.442,-634 205.442,-634 199.442,-634 193.442,-628 193.442,-622 193.442,-622 193.442,-568 193.442,-568 193.442,-562 199.442,-556 205.442,-556 205.442,-556 317.414,-556 317.414,-556 323.414,-556 329.414,-562 329.414,-568 329.414,-568 329.414,-622 329.414,-622 329.414,-628 323.414,-634 317.414,-634\"/>\n",
       "<text text-anchor=\"start\" x=\"208.955\" y=\"-618.8\" font-family=\"Helvetica,sans-Serif\" font-size=\"14.00\">stalk&#45;root_r ≤ 0.5</text>\n",
       "<text text-anchor=\"start\" x=\"221.144\" y=\"-604.8\" font-family=\"Helvetica,sans-Serif\" font-size=\"14.00\">gini = 0.1337</text>\n",
       "<text text-anchor=\"start\" x=\"211.812\" y=\"-590.8\" font-family=\"Helvetica,sans-Serif\" font-size=\"14.00\">samples = 3012</text>\n",
       "<text text-anchor=\"start\" x=\"201.685\" y=\"-576.8\" font-family=\"Helvetica,sans-Serif\" font-size=\"14.00\">value = [2795, 217]</text>\n",
       "<text text-anchor=\"start\" x=\"235.947\" y=\"-562.8\" font-family=\"Helvetica,sans-Serif\" font-size=\"14.00\">class = i</text>\n",
       "</g>\n",
       "<!-- 1&#45;&gt;2 -->\n",
       "<g id=\"edge2\" class=\"edge\"><title>1&#45;&gt;2</title>\n",
       "<path fill=\"none\" stroke=\"black\" d=\"M378.668,-669.769C363.202,-660.038 346.467,-649.508 330.616,-639.534\"/>\n",
       "<polygon fill=\"black\" stroke=\"black\" points=\"332.241,-636.422 321.914,-634.058 328.514,-642.347 332.241,-636.422\"/>\n",
       "</g>\n",
       "<!-- 13 -->\n",
       "<g id=\"node14\" class=\"node\"><title>13</title>\n",
       "<path fill=\"#399de5\" fill-opacity=\"0.909804\" stroke=\"black\" d=\"M512.673,-634C512.673,-634 366.182,-634 366.182,-634 360.182,-634 354.182,-628 354.182,-622 354.182,-622 354.182,-568 354.182,-568 354.182,-562 360.182,-556 366.182,-556 366.182,-556 512.673,-556 512.673,-556 518.673,-556 524.673,-562 524.673,-568 524.673,-568 524.673,-622 524.673,-622 524.673,-628 518.673,-634 512.673,-634\"/>\n",
       "<text text-anchor=\"start\" x=\"362.055\" y=\"-618.8\" font-family=\"Helvetica,sans-Serif\" font-size=\"14.00\">spore&#45;print&#45;color_w ≤ 0.5</text>\n",
       "<text text-anchor=\"start\" x=\"399.144\" y=\"-604.8\" font-family=\"Helvetica,sans-Serif\" font-size=\"14.00\">gini = 0.1498</text>\n",
       "<text text-anchor=\"start\" x=\"393.706\" y=\"-590.8\" font-family=\"Helvetica,sans-Serif\" font-size=\"14.00\">samples = 417</text>\n",
       "<text text-anchor=\"start\" x=\"387.471\" y=\"-576.8\" font-family=\"Helvetica,sans-Serif\" font-size=\"14.00\">value = [34, 383]</text>\n",
       "<text text-anchor=\"start\" x=\"412.002\" y=\"-562.8\" font-family=\"Helvetica,sans-Serif\" font-size=\"14.00\">class = s</text>\n",
       "</g>\n",
       "<!-- 1&#45;&gt;13 -->\n",
       "<g id=\"edge13\" class=\"edge\"><title>1&#45;&gt;13</title>\n",
       "<path fill=\"none\" stroke=\"black\" d=\"M439.428,-669.769C439.428,-661.57 439.428,-652.803 439.428,-644.28\"/>\n",
       "<polygon fill=\"black\" stroke=\"black\" points=\"442.928,-644.058 439.428,-634.058 435.928,-644.059 442.928,-644.058\"/>\n",
       "</g>\n",
       "<!-- 3 -->\n",
       "<g id=\"node4\" class=\"node\"><title>3</title>\n",
       "<path fill=\"#e58139\" fill-opacity=\"0.976471\" stroke=\"black\" d=\"M175.127,-520C175.127,-520 71.7282,-520 71.7282,-520 65.7282,-520 59.7282,-514 59.7282,-508 59.7282,-508 59.7282,-454 59.7282,-454 59.7282,-448 65.7282,-442 71.7282,-442 71.7282,-442 175.127,-442 175.127,-442 181.127,-442 187.127,-448 187.127,-454 187.127,-454 187.127,-508 187.127,-508 187.127,-514 181.127,-520 175.127,-520\"/>\n",
       "<text text-anchor=\"start\" x=\"86.5068\" y=\"-504.8\" font-family=\"Helvetica,sans-Serif\" font-size=\"14.00\">odor_l ≤ 0.5</text>\n",
       "<text text-anchor=\"start\" x=\"83.1436\" y=\"-490.8\" font-family=\"Helvetica,sans-Serif\" font-size=\"14.00\">gini = 0.0483</text>\n",
       "<text text-anchor=\"start\" x=\"73.8125\" y=\"-476.8\" font-family=\"Helvetica,sans-Serif\" font-size=\"14.00\">samples = 2866</text>\n",
       "<text text-anchor=\"start\" x=\"67.5781\" y=\"-462.8\" font-family=\"Helvetica,sans-Serif\" font-size=\"14.00\">value = [2795, 71]</text>\n",
       "<text text-anchor=\"start\" x=\"97.9468\" y=\"-448.8\" font-family=\"Helvetica,sans-Serif\" font-size=\"14.00\">class = i</text>\n",
       "</g>\n",
       "<!-- 2&#45;&gt;3 -->\n",
       "<g id=\"edge3\" class=\"edge\"><title>2&#45;&gt;3</title>\n",
       "<path fill=\"none\" stroke=\"black\" d=\"M214.322,-555.769C202.665,-546.308 190.077,-536.092 178.093,-526.366\"/>\n",
       "<polygon fill=\"black\" stroke=\"black\" points=\"180.291,-523.643 170.321,-520.058 175.88,-529.078 180.291,-523.643\"/>\n",
       "</g>\n",
       "<!-- 12 -->\n",
       "<g id=\"node13\" class=\"node\"><title>12</title>\n",
       "<path fill=\"#399de5\" stroke=\"black\" d=\"M305.555,-513C305.555,-513 217.301,-513 217.301,-513 211.301,-513 205.301,-507 205.301,-501 205.301,-501 205.301,-461 205.301,-461 205.301,-455 211.301,-449 217.301,-449 217.301,-449 305.555,-449 305.555,-449 311.555,-449 317.555,-455 317.555,-461 317.555,-461 317.555,-501 317.555,-501 317.555,-507 311.555,-513 305.555,-513\"/>\n",
       "<text text-anchor=\"start\" x=\"232.823\" y=\"-497.8\" font-family=\"Helvetica,sans-Serif\" font-size=\"14.00\">gini = 0.0</text>\n",
       "<text text-anchor=\"start\" x=\"215.706\" y=\"-483.8\" font-family=\"Helvetica,sans-Serif\" font-size=\"14.00\">samples = 146</text>\n",
       "<text text-anchor=\"start\" x=\"213.364\" y=\"-469.8\" font-family=\"Helvetica,sans-Serif\" font-size=\"14.00\">value = [0, 146]</text>\n",
       "<text text-anchor=\"start\" x=\"234.002\" y=\"-455.8\" font-family=\"Helvetica,sans-Serif\" font-size=\"14.00\">class = s</text>\n",
       "</g>\n",
       "<!-- 2&#45;&gt;12 -->\n",
       "<g id=\"edge12\" class=\"edge\"><title>2&#45;&gt;12</title>\n",
       "<path fill=\"none\" stroke=\"black\" d=\"M261.428,-555.769C261.428,-545.313 261.428,-533.935 261.428,-523.315\"/>\n",
       "<polygon fill=\"black\" stroke=\"black\" points=\"264.928,-523.01 261.428,-513.01 257.928,-523.01 264.928,-523.01\"/>\n",
       "</g>\n",
       "<!-- 4 -->\n",
       "<g id=\"node5\" class=\"node\"><title>4</title>\n",
       "<path fill=\"#e58139\" fill-opacity=\"0.988235\" stroke=\"black\" d=\"M159.849,-406C159.849,-406 15.0063,-406 15.0063,-406 9.00631,-406 3.00631,-400 3.00631,-394 3.00631,-394 3.00631,-340 3.00631,-340 3.00631,-334 9.00631,-328 15.0063,-328 15.0063,-328 159.849,-328 159.849,-328 165.849,-328 171.849,-334 171.849,-340 171.849,-340 171.849,-394 171.849,-394 171.849,-400 165.849,-406 159.849,-406\"/>\n",
       "<text text-anchor=\"start\" x=\"11.2173\" y=\"-390.8\" font-family=\"Helvetica,sans-Serif\" font-size=\"14.00\">spore&#45;print&#45;color_u ≤ 0.5</text>\n",
       "<text text-anchor=\"start\" x=\"47.1436\" y=\"-376.8\" font-family=\"Helvetica,sans-Serif\" font-size=\"14.00\">gini = 0.0237</text>\n",
       "<text text-anchor=\"start\" x=\"37.8125\" y=\"-362.8\" font-family=\"Helvetica,sans-Serif\" font-size=\"14.00\">samples = 2829</text>\n",
       "<text text-anchor=\"start\" x=\"31.5781\" y=\"-348.8\" font-family=\"Helvetica,sans-Serif\" font-size=\"14.00\">value = [2795, 34]</text>\n",
       "<text text-anchor=\"start\" x=\"61.9468\" y=\"-334.8\" font-family=\"Helvetica,sans-Serif\" font-size=\"14.00\">class = i</text>\n",
       "</g>\n",
       "<!-- 3&#45;&gt;4 -->\n",
       "<g id=\"edge4\" class=\"edge\"><title>3&#45;&gt;4</title>\n",
       "<path fill=\"none\" stroke=\"black\" d=\"M111.139,-441.769C108.446,-433.389 105.562,-424.418 102.766,-415.718\"/>\n",
       "<polygon fill=\"black\" stroke=\"black\" points=\"106.053,-414.508 99.6608,-406.058 99.3889,-416.65 106.053,-414.508\"/>\n",
       "</g>\n",
       "<!-- 11 -->\n",
       "<g id=\"node12\" class=\"node\"><title>11</title>\n",
       "<path fill=\"#399de5\" stroke=\"black\" d=\"M281.769,-399C281.769,-399 201.086,-399 201.086,-399 195.086,-399 189.086,-393 189.086,-387 189.086,-387 189.086,-347 189.086,-347 189.086,-341 195.086,-335 201.086,-335 201.086,-335 281.769,-335 281.769,-335 287.769,-335 293.769,-341 293.769,-347 293.769,-347 293.769,-387 293.769,-387 293.769,-393 287.769,-399 281.769,-399\"/>\n",
       "<text text-anchor=\"start\" x=\"212.823\" y=\"-383.8\" font-family=\"Helvetica,sans-Serif\" font-size=\"14.00\">gini = 0.0</text>\n",
       "<text text-anchor=\"start\" x=\"199.599\" y=\"-369.8\" font-family=\"Helvetica,sans-Serif\" font-size=\"14.00\">samples = 37</text>\n",
       "<text text-anchor=\"start\" x=\"197.257\" y=\"-355.8\" font-family=\"Helvetica,sans-Serif\" font-size=\"14.00\">value = [0, 37]</text>\n",
       "<text text-anchor=\"start\" x=\"214.002\" y=\"-341.8\" font-family=\"Helvetica,sans-Serif\" font-size=\"14.00\">class = s</text>\n",
       "</g>\n",
       "<!-- 3&#45;&gt;11 -->\n",
       "<g id=\"edge11\" class=\"edge\"><title>3&#45;&gt;11</title>\n",
       "<path fill=\"none\" stroke=\"black\" d=\"M163.707,-441.769C175.87,-430.224 189.218,-417.555 201.368,-406.023\"/>\n",
       "<polygon fill=\"black\" stroke=\"black\" points=\"203.913,-408.433 208.756,-399.01 199.094,-403.356 203.913,-408.433\"/>\n",
       "</g>\n",
       "<!-- 5 -->\n",
       "<g id=\"node6\" class=\"node\"><title>5</title>\n",
       "<path fill=\"#e58139\" fill-opacity=\"0.996078\" stroke=\"black\" d=\"M126.783,-292C126.783,-292 12.0722,-292 12.0722,-292 6.07219,-292 0.0721905,-286 0.0721905,-280 0.0721905,-280 0.0721905,-226 0.0721905,-226 0.0721905,-220 6.07219,-214 12.0722,-214 12.0722,-214 126.783,-214 126.783,-214 132.783,-214 138.783,-220 138.783,-226 138.783,-226 138.783,-280 138.783,-280 138.783,-286 132.783,-292 126.783,-292\"/>\n",
       "<text text-anchor=\"start\" x=\"8\" y=\"-276.8\" font-family=\"Helvetica,sans-Serif\" font-size=\"14.00\">gill&#45;spacing_w ≤ 0.5</text>\n",
       "<text text-anchor=\"start\" x=\"29.6597\" y=\"-262.8\" font-family=\"Helvetica,sans-Serif\" font-size=\"14.00\">gini = 0.0113</text>\n",
       "<text text-anchor=\"start\" x=\"20.3286\" y=\"-248.8\" font-family=\"Helvetica,sans-Serif\" font-size=\"14.00\">samples = 2811</text>\n",
       "<text text-anchor=\"start\" x=\"13.5781\" y=\"-234.8\" font-family=\"Helvetica,sans-Serif\" font-size=\"14.00\">value = [2795, 16]</text>\n",
       "<text text-anchor=\"start\" x=\"43.9468\" y=\"-220.8\" font-family=\"Helvetica,sans-Serif\" font-size=\"14.00\">class = i</text>\n",
       "</g>\n",
       "<!-- 4&#45;&gt;5 -->\n",
       "<g id=\"edge5\" class=\"edge\"><title>4&#45;&gt;5</title>\n",
       "<path fill=\"none\" stroke=\"black\" d=\"M81.2835,-327.769C79.9512,-319.48 78.5258,-310.61 77.1419,-301.999\"/>\n",
       "<polygon fill=\"black\" stroke=\"black\" points=\"80.5868,-301.376 75.5443,-292.058 73.6755,-302.487 80.5868,-301.376\"/>\n",
       "</g>\n",
       "<!-- 10 -->\n",
       "<g id=\"node11\" class=\"node\"><title>10</title>\n",
       "<path fill=\"#399de5\" stroke=\"black\" d=\"M249.769,-285C249.769,-285 169.086,-285 169.086,-285 163.086,-285 157.086,-279 157.086,-273 157.086,-273 157.086,-233 157.086,-233 157.086,-227 163.086,-221 169.086,-221 169.086,-221 249.769,-221 249.769,-221 255.769,-221 261.769,-227 261.769,-233 261.769,-233 261.769,-273 261.769,-273 261.769,-279 255.769,-285 249.769,-285\"/>\n",
       "<text text-anchor=\"start\" x=\"180.823\" y=\"-269.8\" font-family=\"Helvetica,sans-Serif\" font-size=\"14.00\">gini = 0.0</text>\n",
       "<text text-anchor=\"start\" x=\"167.599\" y=\"-255.8\" font-family=\"Helvetica,sans-Serif\" font-size=\"14.00\">samples = 18</text>\n",
       "<text text-anchor=\"start\" x=\"165.257\" y=\"-241.8\" font-family=\"Helvetica,sans-Serif\" font-size=\"14.00\">value = [0, 18]</text>\n",
       "<text text-anchor=\"start\" x=\"182.002\" y=\"-227.8\" font-family=\"Helvetica,sans-Serif\" font-size=\"14.00\">class = s</text>\n",
       "</g>\n",
       "<!-- 4&#45;&gt;10 -->\n",
       "<g id=\"edge10\" class=\"edge\"><title>4&#45;&gt;10</title>\n",
       "<path fill=\"none\" stroke=\"black\" d=\"M129.072,-327.769C141.648,-316.224 155.449,-303.555 168.01,-292.023\"/>\n",
       "<polygon fill=\"black\" stroke=\"black\" points=\"170.649,-294.351 175.649,-285.01 165.915,-289.194 170.649,-294.351\"/>\n",
       "</g>\n",
       "<!-- 6 -->\n",
       "<g id=\"node7\" class=\"node\"><title>6</title>\n",
       "<path fill=\"#e58139\" stroke=\"black\" d=\"M108.341,-171C108.341,-171 12.5146,-171 12.5146,-171 6.51462,-171 0.514617,-165 0.514617,-159 0.514617,-159 0.514617,-119 0.514617,-119 0.514617,-113 6.51462,-107 12.5146,-107 12.5146,-107 108.341,-107 108.341,-107 114.341,-107 120.341,-113 120.341,-119 120.341,-119 120.341,-159 120.341,-159 120.341,-165 114.341,-171 108.341,-171\"/>\n",
       "<text text-anchor=\"start\" x=\"31.8228\" y=\"-155.8\" font-family=\"Helvetica,sans-Serif\" font-size=\"14.00\">gini = 0.0</text>\n",
       "<text text-anchor=\"start\" x=\"10.8125\" y=\"-141.8\" font-family=\"Helvetica,sans-Serif\" font-size=\"14.00\">samples = 2727</text>\n",
       "<text text-anchor=\"start\" x=\"8.47119\" y=\"-127.8\" font-family=\"Helvetica,sans-Serif\" font-size=\"14.00\">value = [2727, 0]</text>\n",
       "<text text-anchor=\"start\" x=\"34.9468\" y=\"-113.8\" font-family=\"Helvetica,sans-Serif\" font-size=\"14.00\">class = i</text>\n",
       "</g>\n",
       "<!-- 5&#45;&gt;6 -->\n",
       "<g id=\"edge6\" class=\"edge\"><title>5&#45;&gt;6</title>\n",
       "<path fill=\"none\" stroke=\"black\" d=\"M66.3556,-213.769C65.5066,-203.204 64.582,-191.698 63.721,-180.983\"/>\n",
       "<polygon fill=\"black\" stroke=\"black\" points=\"67.2094,-180.698 62.9196,-171.01 60.2319,-181.258 67.2094,-180.698\"/>\n",
       "</g>\n",
       "<!-- 7 -->\n",
       "<g id=\"node8\" class=\"node\"><title>7</title>\n",
       "<path fill=\"#e58139\" fill-opacity=\"0.764706\" stroke=\"black\" d=\"M238.555,-178C238.555,-178 150.301,-178 150.301,-178 144.301,-178 138.301,-172 138.301,-166 138.301,-166 138.301,-112 138.301,-112 138.301,-106 144.301,-100 150.301,-100 150.301,-100 238.555,-100 238.555,-100 244.555,-100 250.555,-106 250.555,-112 250.555,-112 250.555,-166 250.555,-166 250.555,-172 244.555,-178 238.555,-178\"/>\n",
       "<text text-anchor=\"start\" x=\"155.562\" y=\"-162.8\" font-family=\"Helvetica,sans-Serif\" font-size=\"14.00\">odor_c ≤ 0.5</text>\n",
       "<text text-anchor=\"start\" x=\"154.144\" y=\"-148.8\" font-family=\"Helvetica,sans-Serif\" font-size=\"14.00\">gini = 0.3084</text>\n",
       "<text text-anchor=\"start\" x=\"152.599\" y=\"-134.8\" font-family=\"Helvetica,sans-Serif\" font-size=\"14.00\">samples = 84</text>\n",
       "<text text-anchor=\"start\" x=\"146.364\" y=\"-120.8\" font-family=\"Helvetica,sans-Serif\" font-size=\"14.00\">value = [68, 16]</text>\n",
       "<text text-anchor=\"start\" x=\"168.947\" y=\"-106.8\" font-family=\"Helvetica,sans-Serif\" font-size=\"14.00\">class = i</text>\n",
       "</g>\n",
       "<!-- 5&#45;&gt;7 -->\n",
       "<g id=\"edge7\" class=\"edge\"><title>5&#45;&gt;7</title>\n",
       "<path fill=\"none\" stroke=\"black\" d=\"M112.096,-213.769C122.454,-204.488 133.623,-194.481 144.291,-184.923\"/>\n",
       "<polygon fill=\"black\" stroke=\"black\" points=\"146.84,-187.338 151.952,-178.058 142.168,-182.125 146.84,-187.338\"/>\n",
       "</g>\n",
       "<!-- 8 -->\n",
       "<g id=\"node9\" class=\"node\"><title>8</title>\n",
       "<path fill=\"#399de5\" stroke=\"black\" d=\"M192.769,-64C192.769,-64 112.086,-64 112.086,-64 106.086,-64 100.086,-58 100.086,-52 100.086,-52 100.086,-12 100.086,-12 100.086,-6 106.086,-0 112.086,-0 112.086,-0 192.769,-0 192.769,-0 198.769,-0 204.769,-6 204.769,-12 204.769,-12 204.769,-52 204.769,-52 204.769,-58 198.769,-64 192.769,-64\"/>\n",
       "<text text-anchor=\"start\" x=\"123.823\" y=\"-48.8\" font-family=\"Helvetica,sans-Serif\" font-size=\"14.00\">gini = 0.0</text>\n",
       "<text text-anchor=\"start\" x=\"110.599\" y=\"-34.8\" font-family=\"Helvetica,sans-Serif\" font-size=\"14.00\">samples = 16</text>\n",
       "<text text-anchor=\"start\" x=\"108.257\" y=\"-20.8\" font-family=\"Helvetica,sans-Serif\" font-size=\"14.00\">value = [0, 16]</text>\n",
       "<text text-anchor=\"start\" x=\"125.002\" y=\"-6.8\" font-family=\"Helvetica,sans-Serif\" font-size=\"14.00\">class = s</text>\n",
       "</g>\n",
       "<!-- 7&#45;&gt;8 -->\n",
       "<g id=\"edge8\" class=\"edge\"><title>7&#45;&gt;8</title>\n",
       "<path fill=\"none\" stroke=\"black\" d=\"M179.146,-99.7956C175.738,-91.2749 172.112,-82.2104 168.667,-73.5971\"/>\n",
       "<polygon fill=\"black\" stroke=\"black\" points=\"171.838,-72.1021 164.875,-64.1172 165.339,-74.7018 171.838,-72.1021\"/>\n",
       "</g>\n",
       "<!-- 9 -->\n",
       "<g id=\"node10\" class=\"node\"><title>9</title>\n",
       "<path fill=\"#e58139\" stroke=\"black\" d=\"M314.769,-64C314.769,-64 234.086,-64 234.086,-64 228.086,-64 222.086,-58 222.086,-52 222.086,-52 222.086,-12 222.086,-12 222.086,-6 228.086,-0 234.086,-0 234.086,-0 314.769,-0 314.769,-0 320.769,-0 326.769,-6 326.769,-12 326.769,-12 326.769,-52 326.769,-52 326.769,-58 320.769,-64 314.769,-64\"/>\n",
       "<text text-anchor=\"start\" x=\"245.823\" y=\"-48.8\" font-family=\"Helvetica,sans-Serif\" font-size=\"14.00\">gini = 0.0</text>\n",
       "<text text-anchor=\"start\" x=\"232.599\" y=\"-34.8\" font-family=\"Helvetica,sans-Serif\" font-size=\"14.00\">samples = 68</text>\n",
       "<text text-anchor=\"start\" x=\"230.257\" y=\"-20.8\" font-family=\"Helvetica,sans-Serif\" font-size=\"14.00\">value = [68, 0]</text>\n",
       "<text text-anchor=\"start\" x=\"248.947\" y=\"-6.8\" font-family=\"Helvetica,sans-Serif\" font-size=\"14.00\">class = i</text>\n",
       "</g>\n",
       "<!-- 7&#45;&gt;9 -->\n",
       "<g id=\"edge9\" class=\"edge\"><title>7&#45;&gt;9</title>\n",
       "<path fill=\"none\" stroke=\"black\" d=\"M223.536,-99.7956C230.377,-90.8168 237.678,-81.2341 244.552,-72.2119\"/>\n",
       "<polygon fill=\"black\" stroke=\"black\" points=\"247.443,-74.1927 250.719,-64.1172 241.875,-69.9503 247.443,-74.1927\"/>\n",
       "</g>\n",
       "<!-- 14 -->\n",
       "<g id=\"node15\" class=\"node\"><title>14</title>\n",
       "<path fill=\"#399de5\" stroke=\"black\" d=\"M435.555,-513C435.555,-513 347.301,-513 347.301,-513 341.301,-513 335.301,-507 335.301,-501 335.301,-501 335.301,-461 335.301,-461 335.301,-455 341.301,-449 347.301,-449 347.301,-449 435.555,-449 435.555,-449 441.555,-449 447.555,-455 447.555,-461 447.555,-461 447.555,-501 447.555,-501 447.555,-507 441.555,-513 435.555,-513\"/>\n",
       "<text text-anchor=\"start\" x=\"362.823\" y=\"-497.8\" font-family=\"Helvetica,sans-Serif\" font-size=\"14.00\">gini = 0.0</text>\n",
       "<text text-anchor=\"start\" x=\"345.706\" y=\"-483.8\" font-family=\"Helvetica,sans-Serif\" font-size=\"14.00\">samples = 383</text>\n",
       "<text text-anchor=\"start\" x=\"343.364\" y=\"-469.8\" font-family=\"Helvetica,sans-Serif\" font-size=\"14.00\">value = [0, 383]</text>\n",
       "<text text-anchor=\"start\" x=\"364.002\" y=\"-455.8\" font-family=\"Helvetica,sans-Serif\" font-size=\"14.00\">class = s</text>\n",
       "</g>\n",
       "<!-- 13&#45;&gt;14 -->\n",
       "<g id=\"edge14\" class=\"edge\"><title>13&#45;&gt;14</title>\n",
       "<path fill=\"none\" stroke=\"black\" d=\"M423.043,-555.769C418.422,-544.986 413.38,-533.223 408.708,-522.322\"/>\n",
       "<polygon fill=\"black\" stroke=\"black\" points=\"411.874,-520.823 404.718,-513.01 405.44,-523.58 411.874,-520.823\"/>\n",
       "</g>\n",
       "<!-- 15 -->\n",
       "<g id=\"node16\" class=\"node\"><title>15</title>\n",
       "<path fill=\"#e58139\" stroke=\"black\" d=\"M557.769,-513C557.769,-513 477.086,-513 477.086,-513 471.086,-513 465.086,-507 465.086,-501 465.086,-501 465.086,-461 465.086,-461 465.086,-455 471.086,-449 477.086,-449 477.086,-449 557.769,-449 557.769,-449 563.769,-449 569.769,-455 569.769,-461 569.769,-461 569.769,-501 569.769,-501 569.769,-507 563.769,-513 557.769,-513\"/>\n",
       "<text text-anchor=\"start\" x=\"488.823\" y=\"-497.8\" font-family=\"Helvetica,sans-Serif\" font-size=\"14.00\">gini = 0.0</text>\n",
       "<text text-anchor=\"start\" x=\"475.599\" y=\"-483.8\" font-family=\"Helvetica,sans-Serif\" font-size=\"14.00\">samples = 34</text>\n",
       "<text text-anchor=\"start\" x=\"473.257\" y=\"-469.8\" font-family=\"Helvetica,sans-Serif\" font-size=\"14.00\">value = [34, 0]</text>\n",
       "<text text-anchor=\"start\" x=\"491.947\" y=\"-455.8\" font-family=\"Helvetica,sans-Serif\" font-size=\"14.00\">class = i</text>\n",
       "</g>\n",
       "<!-- 13&#45;&gt;15 -->\n",
       "<g id=\"edge15\" class=\"edge\"><title>13&#45;&gt;15</title>\n",
       "<path fill=\"none\" stroke=\"black\" d=\"M466.053,-555.769C473.79,-544.66 482.252,-532.509 490.035,-521.333\"/>\n",
       "<polygon fill=\"black\" stroke=\"black\" points=\"492.989,-523.216 495.831,-513.01 487.244,-519.216 492.989,-523.216\"/>\n",
       "</g>\n",
       "<!-- 17 -->\n",
       "<g id=\"node18\" class=\"node\"><title>17</title>\n",
       "<path fill=\"#399de5\" fill-opacity=\"0.988235\" stroke=\"black\" d=\"M752.745,-634C752.745,-634 562.11,-634 562.11,-634 556.11,-634 550.11,-628 550.11,-622 550.11,-622 550.11,-568 550.11,-568 550.11,-562 556.11,-556 562.11,-556 562.11,-556 752.745,-556 752.745,-556 758.745,-556 764.745,-562 764.745,-568 764.745,-568 764.745,-622 764.745,-622 764.745,-628 758.745,-634 752.745,-634\"/>\n",
       "<text text-anchor=\"start\" x=\"558.269\" y=\"-618.8\" font-family=\"Helvetica,sans-Serif\" font-size=\"14.00\">stalk&#45;surface&#45;below&#45;ring_y ≤ 0.5</text>\n",
       "<text text-anchor=\"start\" x=\"617.144\" y=\"-604.8\" font-family=\"Helvetica,sans-Serif\" font-size=\"14.00\">gini = 0.0264</text>\n",
       "<text text-anchor=\"start\" x=\"607.812\" y=\"-590.8\" font-family=\"Helvetica,sans-Serif\" font-size=\"14.00\">samples = 2614</text>\n",
       "<text text-anchor=\"start\" x=\"601.578\" y=\"-576.8\" font-family=\"Helvetica,sans-Serif\" font-size=\"14.00\">value = [35, 2579]</text>\n",
       "<text text-anchor=\"start\" x=\"630.002\" y=\"-562.8\" font-family=\"Helvetica,sans-Serif\" font-size=\"14.00\">class = s</text>\n",
       "</g>\n",
       "<!-- 16&#45;&gt;17 -->\n",
       "<g id=\"edge17\" class=\"edge\"><title>16&#45;&gt;17</title>\n",
       "<path fill=\"none\" stroke=\"black\" d=\"M657.428,-669.769C657.428,-661.57 657.428,-652.803 657.428,-644.28\"/>\n",
       "<polygon fill=\"black\" stroke=\"black\" points=\"660.928,-644.058 657.428,-634.058 653.928,-644.059 660.928,-644.058\"/>\n",
       "</g>\n",
       "<!-- 30 -->\n",
       "<g id=\"node31\" class=\"node\"><title>30</title>\n",
       "<path fill=\"#e58139\" stroke=\"black\" d=\"M874.769,-627C874.769,-627 794.086,-627 794.086,-627 788.086,-627 782.086,-621 782.086,-615 782.086,-615 782.086,-575 782.086,-575 782.086,-569 788.086,-563 794.086,-563 794.086,-563 874.769,-563 874.769,-563 880.769,-563 886.769,-569 886.769,-575 886.769,-575 886.769,-615 886.769,-615 886.769,-621 880.769,-627 874.769,-627\"/>\n",
       "<text text-anchor=\"start\" x=\"805.823\" y=\"-611.8\" font-family=\"Helvetica,sans-Serif\" font-size=\"14.00\">gini = 0.0</text>\n",
       "<text text-anchor=\"start\" x=\"792.599\" y=\"-597.8\" font-family=\"Helvetica,sans-Serif\" font-size=\"14.00\">samples = 50</text>\n",
       "<text text-anchor=\"start\" x=\"790.257\" y=\"-583.8\" font-family=\"Helvetica,sans-Serif\" font-size=\"14.00\">value = [50, 0]</text>\n",
       "<text text-anchor=\"start\" x=\"808.947\" y=\"-569.8\" font-family=\"Helvetica,sans-Serif\" font-size=\"14.00\">class = i</text>\n",
       "</g>\n",
       "<!-- 16&#45;&gt;30 -->\n",
       "<g id=\"edge30\" class=\"edge\"><title>16&#45;&gt;30</title>\n",
       "<path fill=\"none\" stroke=\"black\" d=\"M717.846,-669.769C736.952,-657.679 758.007,-644.357 776.905,-632.399\"/>\n",
       "<polygon fill=\"black\" stroke=\"black\" points=\"778.842,-635.315 785.421,-627.01 775.099,-629.4 778.842,-635.315\"/>\n",
       "</g>\n",
       "<!-- 18 -->\n",
       "<g id=\"node19\" class=\"node\"><title>18</title>\n",
       "<path fill=\"#399de5\" fill-opacity=\"0.996078\" stroke=\"black\" d=\"M715.07,-520C715.07,-520 599.786,-520 599.786,-520 593.786,-520 587.786,-514 587.786,-508 587.786,-508 587.786,-454 587.786,-454 587.786,-448 593.786,-442 599.786,-442 599.786,-442 715.07,-442 715.07,-442 721.07,-442 727.07,-448 727.07,-454 727.07,-454 727.07,-508 727.07,-508 727.07,-514 721.07,-520 715.07,-520\"/>\n",
       "<text text-anchor=\"start\" x=\"595.607\" y=\"-504.8\" font-family=\"Helvetica,sans-Serif\" font-size=\"14.00\">cap&#45;surface_g ≤ 0.5</text>\n",
       "<text text-anchor=\"start\" x=\"617.144\" y=\"-490.8\" font-family=\"Helvetica,sans-Serif\" font-size=\"14.00\">gini = 0.0047</text>\n",
       "<text text-anchor=\"start\" x=\"607.812\" y=\"-476.8\" font-family=\"Helvetica,sans-Serif\" font-size=\"14.00\">samples = 2574</text>\n",
       "<text text-anchor=\"start\" x=\"605.471\" y=\"-462.8\" font-family=\"Helvetica,sans-Serif\" font-size=\"14.00\">value = [6, 2568]</text>\n",
       "<text text-anchor=\"start\" x=\"630.002\" y=\"-448.8\" font-family=\"Helvetica,sans-Serif\" font-size=\"14.00\">class = s</text>\n",
       "</g>\n",
       "<!-- 17&#45;&gt;18 -->\n",
       "<g id=\"edge18\" class=\"edge\"><title>17&#45;&gt;18</title>\n",
       "<path fill=\"none\" stroke=\"black\" d=\"M657.428,-555.769C657.428,-547.57 657.428,-538.803 657.428,-530.28\"/>\n",
       "<polygon fill=\"black\" stroke=\"black\" points=\"660.928,-530.058 657.428,-520.058 653.928,-530.059 660.928,-530.058\"/>\n",
       "</g>\n",
       "<!-- 27 -->\n",
       "<g id=\"node28\" class=\"node\"><title>27</title>\n",
       "<path fill=\"#e58139\" fill-opacity=\"0.619608\" stroke=\"black\" d=\"M846.101,-520C846.101,-520 756.755,-520 756.755,-520 750.755,-520 744.755,-514 744.755,-508 744.755,-508 744.755,-454 744.755,-454 744.755,-448 750.755,-442 756.755,-442 756.755,-442 846.101,-442 846.101,-442 852.101,-442 858.101,-448 858.101,-454 858.101,-454 858.101,-508 858.101,-508 858.101,-514 852.101,-520 846.101,-520\"/>\n",
       "<text text-anchor=\"start\" x=\"752.841\" y=\"-504.8\" font-family=\"Helvetica,sans-Serif\" font-size=\"14.00\">gill&#45;size_n ≤ 0.5</text>\n",
       "<text text-anchor=\"start\" x=\"761.144\" y=\"-490.8\" font-family=\"Helvetica,sans-Serif\" font-size=\"14.00\">gini = 0.3988</text>\n",
       "<text text-anchor=\"start\" x=\"759.599\" y=\"-476.8\" font-family=\"Helvetica,sans-Serif\" font-size=\"14.00\">samples = 40</text>\n",
       "<text text-anchor=\"start\" x=\"753.88\" y=\"-462.8\" font-family=\"Helvetica,sans-Serif\" font-size=\"14.00\">value = [29, 11]</text>\n",
       "<text text-anchor=\"start\" x=\"775.947\" y=\"-448.8\" font-family=\"Helvetica,sans-Serif\" font-size=\"14.00\">class = i</text>\n",
       "</g>\n",
       "<!-- 17&#45;&gt;27 -->\n",
       "<g id=\"edge27\" class=\"edge\"><title>17&#45;&gt;27</title>\n",
       "<path fill=\"none\" stroke=\"black\" d=\"M706.582,-555.769C718.746,-546.308 731.88,-536.092 744.385,-526.366\"/>\n",
       "<polygon fill=\"black\" stroke=\"black\" points=\"746.751,-528.961 752.495,-520.058 742.453,-523.435 746.751,-528.961\"/>\n",
       "</g>\n",
       "<!-- 19 -->\n",
       "<g id=\"node20\" class=\"node\"><title>19</title>\n",
       "<path fill=\"#399de5\" stroke=\"black\" d=\"M585.018,-406C585.018,-406 477.838,-406 477.838,-406 471.838,-406 465.838,-400 465.838,-394 465.838,-394 465.838,-340 465.838,-340 465.838,-334 471.838,-328 477.838,-328 477.838,-328 585.018,-328 585.018,-328 591.018,-328 597.018,-334 597.018,-340 597.018,-340 597.018,-394 597.018,-394 597.018,-400 591.018,-406 585.018,-406\"/>\n",
       "<text text-anchor=\"start\" x=\"473.883\" y=\"-390.8\" font-family=\"Helvetica,sans-Serif\" font-size=\"14.00\">cap&#45;shape_c ≤ 0.5</text>\n",
       "<text text-anchor=\"start\" x=\"491.144\" y=\"-376.8\" font-family=\"Helvetica,sans-Serif\" font-size=\"14.00\">gini = 0.0016</text>\n",
       "<text text-anchor=\"start\" x=\"481.812\" y=\"-362.8\" font-family=\"Helvetica,sans-Serif\" font-size=\"14.00\">samples = 2570</text>\n",
       "<text text-anchor=\"start\" x=\"479.471\" y=\"-348.8\" font-family=\"Helvetica,sans-Serif\" font-size=\"14.00\">value = [2, 2568]</text>\n",
       "<text text-anchor=\"start\" x=\"504.002\" y=\"-334.8\" font-family=\"Helvetica,sans-Serif\" font-size=\"14.00\">class = s</text>\n",
       "</g>\n",
       "<!-- 18&#45;&gt;19 -->\n",
       "<g id=\"edge19\" class=\"edge\"><title>18&#45;&gt;19</title>\n",
       "<path fill=\"none\" stroke=\"black\" d=\"M614.418,-441.769C603.977,-432.488 592.719,-422.481 581.966,-412.923\"/>\n",
       "<polygon fill=\"black\" stroke=\"black\" points=\"584.043,-410.086 574.244,-406.058 579.392,-415.318 584.043,-410.086\"/>\n",
       "</g>\n",
       "<!-- 26 -->\n",
       "<g id=\"node27\" class=\"node\"><title>26</title>\n",
       "<path fill=\"#e58139\" stroke=\"black\" d=\"M699.483,-399C699.483,-399 627.372,-399 627.372,-399 621.372,-399 615.372,-393 615.372,-387 615.372,-387 615.372,-347 615.372,-347 615.372,-341 621.372,-335 627.372,-335 627.372,-335 699.483,-335 699.483,-335 705.483,-335 711.483,-341 711.483,-347 711.483,-347 711.483,-387 711.483,-387 711.483,-393 705.483,-399 699.483,-399\"/>\n",
       "<text text-anchor=\"start\" x=\"634.823\" y=\"-383.8\" font-family=\"Helvetica,sans-Serif\" font-size=\"14.00\">gini = 0.0</text>\n",
       "<text text-anchor=\"start\" x=\"625.492\" y=\"-369.8\" font-family=\"Helvetica,sans-Serif\" font-size=\"14.00\">samples = 4</text>\n",
       "<text text-anchor=\"start\" x=\"623.15\" y=\"-355.8\" font-family=\"Helvetica,sans-Serif\" font-size=\"14.00\">value = [4, 0]</text>\n",
       "<text text-anchor=\"start\" x=\"637.947\" y=\"-341.8\" font-family=\"Helvetica,sans-Serif\" font-size=\"14.00\">class = i</text>\n",
       "</g>\n",
       "<!-- 18&#45;&gt;26 -->\n",
       "<g id=\"edge26\" class=\"edge\"><title>18&#45;&gt;26</title>\n",
       "<path fill=\"none\" stroke=\"black\" d=\"M659.476,-441.769C660.036,-431.313 660.646,-419.935 661.214,-409.315\"/>\n",
       "<polygon fill=\"black\" stroke=\"black\" points=\"664.726,-409.183 661.766,-399.01 657.736,-408.808 664.726,-409.183\"/>\n",
       "</g>\n",
       "<!-- 20 -->\n",
       "<g id=\"node21\" class=\"node\"><title>20</title>\n",
       "<path fill=\"#399de5\" stroke=\"black\" d=\"M516.341,-292C516.341,-292 420.515,-292 420.515,-292 414.515,-292 408.515,-286 408.515,-280 408.515,-280 408.515,-226 408.515,-226 408.515,-220 414.515,-214 420.515,-214 420.515,-214 516.341,-214 516.341,-214 522.341,-214 528.341,-220 528.341,-226 528.341,-226 528.341,-280 528.341,-280 528.341,-286 522.341,-292 516.341,-292\"/>\n",
       "<text text-anchor=\"start\" x=\"419.841\" y=\"-276.8\" font-family=\"Helvetica,sans-Serif\" font-size=\"14.00\">gill&#45;size_n ≤ 0.5</text>\n",
       "<text text-anchor=\"start\" x=\"428.144\" y=\"-262.8\" font-family=\"Helvetica,sans-Serif\" font-size=\"14.00\">gini = 0.0008</text>\n",
       "<text text-anchor=\"start\" x=\"418.812\" y=\"-248.8\" font-family=\"Helvetica,sans-Serif\" font-size=\"14.00\">samples = 2569</text>\n",
       "<text text-anchor=\"start\" x=\"416.471\" y=\"-234.8\" font-family=\"Helvetica,sans-Serif\" font-size=\"14.00\">value = [1, 2568]</text>\n",
       "<text text-anchor=\"start\" x=\"441.002\" y=\"-220.8\" font-family=\"Helvetica,sans-Serif\" font-size=\"14.00\">class = s</text>\n",
       "</g>\n",
       "<!-- 19&#45;&gt;20 -->\n",
       "<g id=\"edge20\" class=\"edge\"><title>19&#45;&gt;20</title>\n",
       "<path fill=\"none\" stroke=\"black\" d=\"M509.923,-327.769C505.057,-319.119 499.837,-309.838 494.796,-300.877\"/>\n",
       "<polygon fill=\"black\" stroke=\"black\" points=\"497.789,-299.058 489.836,-292.058 491.688,-302.49 497.789,-299.058\"/>\n",
       "</g>\n",
       "<!-- 25 -->\n",
       "<g id=\"node26\" class=\"node\"><title>25</title>\n",
       "<path fill=\"#e58139\" stroke=\"black\" d=\"M630.483,-285C630.483,-285 558.372,-285 558.372,-285 552.372,-285 546.372,-279 546.372,-273 546.372,-273 546.372,-233 546.372,-233 546.372,-227 552.372,-221 558.372,-221 558.372,-221 630.483,-221 630.483,-221 636.483,-221 642.483,-227 642.483,-233 642.483,-233 642.483,-273 642.483,-273 642.483,-279 636.483,-285 630.483,-285\"/>\n",
       "<text text-anchor=\"start\" x=\"565.823\" y=\"-269.8\" font-family=\"Helvetica,sans-Serif\" font-size=\"14.00\">gini = 0.0</text>\n",
       "<text text-anchor=\"start\" x=\"556.492\" y=\"-255.8\" font-family=\"Helvetica,sans-Serif\" font-size=\"14.00\">samples = 1</text>\n",
       "<text text-anchor=\"start\" x=\"554.15\" y=\"-241.8\" font-family=\"Helvetica,sans-Serif\" font-size=\"14.00\">value = [1, 0]</text>\n",
       "<text text-anchor=\"start\" x=\"568.947\" y=\"-227.8\" font-family=\"Helvetica,sans-Serif\" font-size=\"14.00\">class = i</text>\n",
       "</g>\n",
       "<!-- 19&#45;&gt;25 -->\n",
       "<g id=\"edge25\" class=\"edge\"><title>19&#45;&gt;25</title>\n",
       "<path fill=\"none\" stroke=\"black\" d=\"M552.933,-327.769C559.059,-316.877 565.749,-304.985 571.932,-293.992\"/>\n",
       "<polygon fill=\"black\" stroke=\"black\" points=\"575.132,-295.442 576.985,-285.01 569.031,-292.01 575.132,-295.442\"/>\n",
       "</g>\n",
       "<!-- 21 -->\n",
       "<g id=\"node22\" class=\"node\"><title>21</title>\n",
       "<path fill=\"#399de5\" stroke=\"black\" d=\"M422.341,-171C422.341,-171 326.515,-171 326.515,-171 320.515,-171 314.515,-165 314.515,-159 314.515,-159 314.515,-119 314.515,-119 314.515,-113 320.515,-107 326.515,-107 326.515,-107 422.341,-107 422.341,-107 428.341,-107 434.341,-113 434.341,-119 434.341,-119 434.341,-159 434.341,-159 434.341,-165 428.341,-171 422.341,-171\"/>\n",
       "<text text-anchor=\"start\" x=\"345.823\" y=\"-155.8\" font-family=\"Helvetica,sans-Serif\" font-size=\"14.00\">gini = 0.0</text>\n",
       "<text text-anchor=\"start\" x=\"324.812\" y=\"-141.8\" font-family=\"Helvetica,sans-Serif\" font-size=\"14.00\">samples = 2431</text>\n",
       "<text text-anchor=\"start\" x=\"322.471\" y=\"-127.8\" font-family=\"Helvetica,sans-Serif\" font-size=\"14.00\">value = [0, 2431]</text>\n",
       "<text text-anchor=\"start\" x=\"347.002\" y=\"-113.8\" font-family=\"Helvetica,sans-Serif\" font-size=\"14.00\">class = s</text>\n",
       "</g>\n",
       "<!-- 20&#45;&gt;21 -->\n",
       "<g id=\"edge21\" class=\"edge\"><title>20&#45;&gt;21</title>\n",
       "<path fill=\"none\" stroke=\"black\" d=\"M436.341,-213.769C426.834,-202.442 416.419,-190.032 406.889,-178.677\"/>\n",
       "<polygon fill=\"black\" stroke=\"black\" points=\"409.564,-176.42 400.454,-171.01 404.202,-180.92 409.564,-176.42\"/>\n",
       "</g>\n",
       "<!-- 22 -->\n",
       "<g id=\"node23\" class=\"node\"><title>22</title>\n",
       "<path fill=\"#399de5\" fill-opacity=\"0.992157\" stroke=\"black\" d=\"M570.752,-178C570.752,-178 464.103,-178 464.103,-178 458.103,-178 452.103,-172 452.103,-166 452.103,-166 452.103,-112 452.103,-112 452.103,-106 458.103,-100 464.103,-100 464.103,-100 570.752,-100 570.752,-100 576.752,-100 582.752,-106 582.752,-112 582.752,-112 582.752,-166 582.752,-166 582.752,-172 576.752,-178 570.752,-178\"/>\n",
       "<text text-anchor=\"start\" x=\"460.266\" y=\"-162.8\" font-family=\"Helvetica,sans-Serif\" font-size=\"14.00\">population_c ≤ 0.5</text>\n",
       "<text text-anchor=\"start\" x=\"477.144\" y=\"-148.8\" font-family=\"Helvetica,sans-Serif\" font-size=\"14.00\">gini = 0.0144</text>\n",
       "<text text-anchor=\"start\" x=\"471.706\" y=\"-134.8\" font-family=\"Helvetica,sans-Serif\" font-size=\"14.00\">samples = 138</text>\n",
       "<text text-anchor=\"start\" x=\"469.364\" y=\"-120.8\" font-family=\"Helvetica,sans-Serif\" font-size=\"14.00\">value = [1, 137]</text>\n",
       "<text text-anchor=\"start\" x=\"490.002\" y=\"-106.8\" font-family=\"Helvetica,sans-Serif\" font-size=\"14.00\">class = s</text>\n",
       "</g>\n",
       "<!-- 20&#45;&gt;22 -->\n",
       "<g id=\"edge22\" class=\"edge\"><title>20&#45;&gt;22</title>\n",
       "<path fill=\"none\" stroke=\"black\" d=\"M485.154,-213.769C488.859,-205.299 492.829,-196.225 496.674,-187.438\"/>\n",
       "<polygon fill=\"black\" stroke=\"black\" points=\"499.975,-188.623 500.777,-178.058 493.562,-185.817 499.975,-188.623\"/>\n",
       "</g>\n",
       "<!-- 23 -->\n",
       "<g id=\"node24\" class=\"node\"><title>23</title>\n",
       "<path fill=\"#399de5\" stroke=\"black\" d=\"M481.555,-64C481.555,-64 393.301,-64 393.301,-64 387.301,-64 381.301,-58 381.301,-52 381.301,-52 381.301,-12 381.301,-12 381.301,-6 387.301,-0 393.301,-0 393.301,-0 481.555,-0 481.555,-0 487.555,-0 493.555,-6 493.555,-12 493.555,-12 493.555,-52 493.555,-52 493.555,-58 487.555,-64 481.555,-64\"/>\n",
       "<text text-anchor=\"start\" x=\"408.823\" y=\"-48.8\" font-family=\"Helvetica,sans-Serif\" font-size=\"14.00\">gini = 0.0</text>\n",
       "<text text-anchor=\"start\" x=\"391.706\" y=\"-34.8\" font-family=\"Helvetica,sans-Serif\" font-size=\"14.00\">samples = 137</text>\n",
       "<text text-anchor=\"start\" x=\"389.364\" y=\"-20.8\" font-family=\"Helvetica,sans-Serif\" font-size=\"14.00\">value = [0, 137]</text>\n",
       "<text text-anchor=\"start\" x=\"410.002\" y=\"-6.8\" font-family=\"Helvetica,sans-Serif\" font-size=\"14.00\">class = s</text>\n",
       "</g>\n",
       "<!-- 22&#45;&gt;23 -->\n",
       "<g id=\"edge23\" class=\"edge\"><title>22&#45;&gt;23</title>\n",
       "<path fill=\"none\" stroke=\"black\" d=\"M488.32,-99.7956C481.479,-90.8168 474.178,-81.2341 467.303,-72.2119\"/>\n",
       "<polygon fill=\"black\" stroke=\"black\" points=\"469.981,-69.9503 461.136,-64.1172 464.413,-74.1927 469.981,-69.9503\"/>\n",
       "</g>\n",
       "<!-- 24 -->\n",
       "<g id=\"node25\" class=\"node\"><title>24</title>\n",
       "<path fill=\"#e58139\" stroke=\"black\" d=\"M595.483,-64C595.483,-64 523.372,-64 523.372,-64 517.372,-64 511.372,-58 511.372,-52 511.372,-52 511.372,-12 511.372,-12 511.372,-6 517.372,-0 523.372,-0 523.372,-0 595.483,-0 595.483,-0 601.483,-0 607.483,-6 607.483,-12 607.483,-12 607.483,-52 607.483,-52 607.483,-58 601.483,-64 595.483,-64\"/>\n",
       "<text text-anchor=\"start\" x=\"530.823\" y=\"-48.8\" font-family=\"Helvetica,sans-Serif\" font-size=\"14.00\">gini = 0.0</text>\n",
       "<text text-anchor=\"start\" x=\"521.492\" y=\"-34.8\" font-family=\"Helvetica,sans-Serif\" font-size=\"14.00\">samples = 1</text>\n",
       "<text text-anchor=\"start\" x=\"519.15\" y=\"-20.8\" font-family=\"Helvetica,sans-Serif\" font-size=\"14.00\">value = [1, 0]</text>\n",
       "<text text-anchor=\"start\" x=\"533.947\" y=\"-6.8\" font-family=\"Helvetica,sans-Serif\" font-size=\"14.00\">class = i</text>\n",
       "</g>\n",
       "<!-- 22&#45;&gt;24 -->\n",
       "<g id=\"edge24\" class=\"edge\"><title>22&#45;&gt;24</title>\n",
       "<path fill=\"none\" stroke=\"black\" d=\"M532.71,-99.7956C536.118,-91.2749 539.744,-82.2104 543.189,-73.5971\"/>\n",
       "<polygon fill=\"black\" stroke=\"black\" points=\"546.517,-74.7018 546.981,-64.1172 540.017,-72.1021 546.517,-74.7018\"/>\n",
       "</g>\n",
       "<!-- 28 -->\n",
       "<g id=\"node29\" class=\"node\"><title>28</title>\n",
       "<path fill=\"#399de5\" stroke=\"black\" d=\"M834.237,-399C834.237,-399 754.619,-399 754.619,-399 748.619,-399 742.619,-393 742.619,-387 742.619,-387 742.619,-347 742.619,-347 742.619,-341 748.619,-335 754.619,-335 754.619,-335 834.237,-335 834.237,-335 840.237,-335 846.237,-341 846.237,-347 846.237,-347 846.237,-387 846.237,-387 846.237,-393 840.237,-399 834.237,-399\"/>\n",
       "<text text-anchor=\"start\" x=\"765.823\" y=\"-383.8\" font-family=\"Helvetica,sans-Serif\" font-size=\"14.00\">gini = 0.0</text>\n",
       "<text text-anchor=\"start\" x=\"753.115\" y=\"-369.8\" font-family=\"Helvetica,sans-Serif\" font-size=\"14.00\">samples = 11</text>\n",
       "<text text-anchor=\"start\" x=\"750.773\" y=\"-355.8\" font-family=\"Helvetica,sans-Serif\" font-size=\"14.00\">value = [0, 11]</text>\n",
       "<text text-anchor=\"start\" x=\"767.002\" y=\"-341.8\" font-family=\"Helvetica,sans-Serif\" font-size=\"14.00\">class = s</text>\n",
       "</g>\n",
       "<!-- 27&#45;&gt;28 -->\n",
       "<g id=\"edge28\" class=\"edge\"><title>27&#45;&gt;28</title>\n",
       "<path fill=\"none\" stroke=\"black\" d=\"M799.038,-441.769C798.385,-431.313 797.674,-419.935 797.01,-409.315\"/>\n",
       "<polygon fill=\"black\" stroke=\"black\" points=\"800.483,-408.772 796.366,-399.01 793.497,-409.209 800.483,-408.772\"/>\n",
       "</g>\n",
       "<!-- 29 -->\n",
       "<g id=\"node30\" class=\"node\"><title>29</title>\n",
       "<path fill=\"#e58139\" stroke=\"black\" d=\"M956.769,-399C956.769,-399 876.086,-399 876.086,-399 870.086,-399 864.086,-393 864.086,-387 864.086,-387 864.086,-347 864.086,-347 864.086,-341 870.086,-335 876.086,-335 876.086,-335 956.769,-335 956.769,-335 962.769,-335 968.769,-341 968.769,-347 968.769,-347 968.769,-387 968.769,-387 968.769,-393 962.769,-399 956.769,-399\"/>\n",
       "<text text-anchor=\"start\" x=\"887.823\" y=\"-383.8\" font-family=\"Helvetica,sans-Serif\" font-size=\"14.00\">gini = 0.0</text>\n",
       "<text text-anchor=\"start\" x=\"874.599\" y=\"-369.8\" font-family=\"Helvetica,sans-Serif\" font-size=\"14.00\">samples = 29</text>\n",
       "<text text-anchor=\"start\" x=\"872.257\" y=\"-355.8\" font-family=\"Helvetica,sans-Serif\" font-size=\"14.00\">value = [29, 0]</text>\n",
       "<text text-anchor=\"start\" x=\"890.947\" y=\"-341.8\" font-family=\"Helvetica,sans-Serif\" font-size=\"14.00\">class = i</text>\n",
       "</g>\n",
       "<!-- 27&#45;&gt;29 -->\n",
       "<g id=\"edge29\" class=\"edge\"><title>27&#45;&gt;29</title>\n",
       "<path fill=\"none\" stroke=\"black\" d=\"M840.683,-441.769C852.537,-430.224 865.546,-417.555 877.386,-406.023\"/>\n",
       "<polygon fill=\"black\" stroke=\"black\" points=\"879.865,-408.494 884.587,-399.01 874.981,-403.48 879.865,-408.494\"/>\n",
       "</g>\n",
       "</g>\n",
       "</svg>\n"
      ],
      "text/plain": [
       "<graphviz.files.Source at 0x1114787d0>"
      ]
     },
     "execution_count": 58,
     "metadata": {},
     "output_type": "execute_result"
    }
   ],
   "source": [
    "graph"
   ]
  },
  {
   "cell_type": "markdown",
   "metadata": {},
   "source": [
    "<h3> Now will do a prediction or 2</h3>"
   ]
  },
  {
   "cell_type": "code",
   "execution_count": 63,
   "metadata": {},
   "outputs": [
    {
     "data": {
      "text/plain": [
       "array([0, 0, 0, ..., 1, 1, 1])"
      ]
     },
     "execution_count": 63,
     "metadata": {},
     "output_type": "execute_result"
    }
   ],
   "source": [
    "clf.predict(X_test)"
   ]
  },
  {
   "cell_type": "code",
   "execution_count": 64,
   "metadata": {},
   "outputs": [
    {
     "data": {
      "text/plain": [
       "1.0"
      ]
     },
     "execution_count": 64,
     "metadata": {},
     "output_type": "execute_result"
    }
   ],
   "source": [
    "clf.score(X_test, y_test)"
   ]
  },
  {
   "cell_type": "code",
   "execution_count": null,
   "metadata": {
    "collapsed": true
   },
   "outputs": [],
   "source": []
  }
 ],
 "metadata": {
  "kernelspec": {
   "display_name": "Python 2",
   "language": "python",
   "name": "python2"
  },
  "language_info": {
   "codemirror_mode": {
    "name": "ipython",
    "version": 2
   },
   "file_extension": ".py",
   "mimetype": "text/x-python",
   "name": "python",
   "nbconvert_exporter": "python",
   "pygments_lexer": "ipython2",
   "version": "2.7.13"
  }
 },
 "nbformat": 4,
 "nbformat_minor": 2
}
